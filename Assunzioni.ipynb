{
 "cells": [
  {
   "cell_type": "markdown",
   "metadata": {},
   "source": [
    "# Segretar*"
   ]
  },
  {
   "cell_type": "markdown",
   "metadata": {},
   "source": [
    "Ok, siete appena stati promossi capi del personale. Ieri sera avete festeggiato. Hooray!\n",
    "Oggi però c'è la prima gatta da pelare: bisogna assumere un* nuov* segretari*. Abbiamo 100 candidat*, che dobbiamo valutare. Li dobbiamo valutare in sequenza, un* dopo l'altr*. Dopo ciascun colloquio, dobbiamo decidere: assumere \\*l\\* candidat*, oppure perderl* per sempre, e sotto il prossimo. L'obiettivo che ci viene dato non ammette compromessi: dobbiamo scegliere \\*l\\* migliore. Ogni volta che intervistiamo un* candidat*, riusciamo a stabilire se sia meglio o peggio di ciascun altr* candidat* valutat*."
   ]
  },
  {
   "cell_type": "markdown",
   "metadata": {},
   "source": [
    "Reazioni plausibili:\n",
    "\n",
    "- \"Voglio tornare al mio incarico precedente\"\n",
    "- \"E' impossibile\"\n",
    "- \"Mi conviene tirare a indovinare\"\n",
    "\n",
    "Approccio più \"scientifico\": posso fare meglio che scegliere a caso? O che scegliere il primo? O l'ultimo?\n",
    "\n",
    "Vediamo un po'..."
   ]
  },
  {
   "cell_type": "markdown",
   "metadata": {},
   "source": [
    "Per prima cosa: proviamo a modellizzare la nostra situazione. Abbiamo 100 candidat*, ciascuno meglio o peggio di ciascun altro, in un ordine che non conosciamo. Possiamo rappresentarli con una lista di numeri, dall'1 al 100, mischiata:"
   ]
  },
  {
   "cell_type": "code",
   "execution_count": 1,
   "metadata": {},
   "outputs": [],
   "source": [
    "from random import shuffle, seed\n",
    "seed(1234)\n",
    "candidati = list(range(100))\n",
    "shuffle(candidati)"
   ]
  },
  {
   "cell_type": "code",
   "execution_count": 2,
   "metadata": {},
   "outputs": [
    {
     "name": "stdout",
     "output_type": "stream",
     "text": [
      "[71, 80, 18, 26, 55, 51, 27, 98, 6, 75, 83, 7, 84, 20, 53, 25, 58, 72, 28, 67, 49, 36, 94, 46, 43, 63, 16, 38, 40, 66, 50, 47, 48, 13, 37, 39, 70, 91, 92, 90, 24, 57, 9, 21, 96, 60, 32, 73, 42, 33, 29, 89, 68, 15, 17, 22, 54, 87, 77, 41, 93, 35, 52, 34, 5, 65, 76, 69, 81, 8, 31, 62, 64, 1, 97, 23, 95, 19, 59, 78, 61, 79, 82, 44, 86, 3, 2, 30, 45, 12, 10, 88, 85, 4, 74, 11, 0, 14, 56, 99]\n"
     ]
    }
   ],
   "source": [
    "print(candidati)"
   ]
  },
  {
   "cell_type": "markdown",
   "metadata": {},
   "source": [
    "Ok, ora dobbiamo modellizzare il processo di intervista. Un'idea potrebbe essere: rispetto a questa rappresentazione, intervistare vuol dire conoscere il punteggio dell'intervistato. Questo però non sarebbe molto fedele alla descrizione della situazione, perché avrei più informazione di quella semplicemente \"comparativa\" tra i candidati. Esempio: se mi viene fuori 100 al primo colpo, so che quel candidato è il migliore di tutti. In una situazione di questo tipo, la strategia vincente sarebbe facile: intervista uno a uno, e prendi quello che ha 100."
   ]
  },
  {
   "cell_type": "markdown",
   "metadata": {},
   "source": [
    "Ci serve una funzione che, dato il numero `n`, ci dica come si posizione il candidato n-simo rispetto agli altri indicati fino ad ora.\n",
    "La funzione che fa al caso nostro è:"
   ]
  },
  {
   "cell_type": "code",
   "execution_count": 3,
   "metadata": {},
   "outputs": [],
   "source": [
    "def valuta(n, candidati):\n",
    "    return sorted(candidati[:n+1], reverse=True).index(candidati[n])"
   ]
  },
  {
   "cell_type": "markdown",
   "metadata": {},
   "source": [
    "Ok, proviamo a giocarci un po', e intervistiamo il nostro primo candidato. Che risultato vi aspettate?"
   ]
  },
  {
   "cell_type": "code",
   "execution_count": 4,
   "metadata": {},
   "outputs": [
    {
     "data": {
      "text/plain": [
       "0"
      ]
     },
     "execution_count": 4,
     "metadata": {},
     "output_type": "execute_result"
    }
   ],
   "source": [
    "valuta(0, candidati)"
   ]
  },
  {
   "cell_type": "markdown",
   "metadata": {},
   "source": [
    "`0` vuol dire che questo è il miglior candidato ascoltato fino ad ora! Lo prendiamo? Magari il secondo è migliore! Proviamo:"
   ]
  },
  {
   "cell_type": "code",
   "execution_count": 5,
   "metadata": {},
   "outputs": [
    {
     "data": {
      "text/plain": [
       "0"
      ]
     },
     "execution_count": 5,
     "metadata": {},
     "output_type": "execute_result"
    }
   ],
   "source": [
    "valuta(1, candidati)"
   ]
  },
  {
   "cell_type": "markdown",
   "metadata": {},
   "source": [
    "Esatto, il secondo è il migliore tra i primi due! Lo prendiamo?"
   ]
  },
  {
   "cell_type": "code",
   "execution_count": 6,
   "metadata": {},
   "outputs": [
    {
     "data": {
      "text/plain": [
       "2"
      ]
     },
     "execution_count": 6,
     "metadata": {},
     "output_type": "execute_result"
    }
   ],
   "source": [
    "valuta(2, candidati)"
   ]
  },
  {
   "cell_type": "markdown",
   "metadata": {},
   "source": [
    "Come possiamo elaborare una strategia? Una famiglia di strategie potrebbe essere: non scegliamo il primo. Perché? Perché è improbabile che il primo sia il migliore. D'altra parte, non aspettiamo di scegliere l'ultimo, sperando sempre in qualcosa di meglio. Dal punto di vista probabilistico, decidere \"a priori\" di prendere il primo o l'ultimo, o l'n-simo, è la stessa cosa: ho sempre 1/100 di probabilità di scegliere il migliore. Posso fare di meglio? Potrei decidere di ascoltare i primi n, e poi prendere il primo che li supera!\n",
    "\n",
    "Questo, con la nostra funzione, equivarebbe a chiamare in sequenza `valuta(n)`, `valuta(n+1)`, e così via, finché mi esce uno `0`. Se non mi esce uno `0` fino alla fine? Vuol dire che il migliore era tra i primi `n`, e ho perso. Ricordiamoci che in questo gioco, scegliere il 2o o non scegliere è equivalente, ho comunque perso. "
   ]
  },
  {
   "cell_type": "markdown",
   "metadata": {},
   "source": [
    "Ok, immaginiamo di prendere `n` uguale a `5`. Come faccio a vedere se in questo caso la mia strategia sarebbe vincente? Semplice: devo vedere a che punteggio corrisponde il primo `i` per cui `valuta(i, candidati) == 0`. Se `candidati[i] == 100`, allora ho vinto (ho scelto il migliore), altrimenti ho perso. "
   ]
  },
  {
   "cell_type": "code",
   "execution_count": 7,
   "metadata": {},
   "outputs": [],
   "source": [
    "def seleziona(n, candidati):\n",
    "    for i in range(n, 100):\n",
    "        if valuta(i, candidati) == 0:\n",
    "            return i"
   ]
  },
  {
   "cell_type": "code",
   "execution_count": 8,
   "metadata": {},
   "outputs": [
    {
     "data": {
      "text/plain": [
       "7"
      ]
     },
     "execution_count": 8,
     "metadata": {},
     "output_type": "execute_result"
    }
   ],
   "source": [
    "seleziona(5, candidati)"
   ]
  },
  {
   "cell_type": "code",
   "execution_count": 9,
   "metadata": {},
   "outputs": [
    {
     "data": {
      "text/plain": [
       "98"
      ]
     },
     "execution_count": 9,
     "metadata": {},
     "output_type": "execute_result"
    }
   ],
   "source": [
    "candidati[7]"
   ]
  },
  {
   "cell_type": "markdown",
   "metadata": {},
   "source": [
    "Peccato, in questo caso avrei perso!\n",
    "Generiamo un altro set di candidati (cioè rimescoliamo quelli che abbiamo)"
   ]
  },
  {
   "cell_type": "code",
   "execution_count": 10,
   "metadata": {},
   "outputs": [],
   "source": [
    "shuffle(candidati)"
   ]
  },
  {
   "cell_type": "code",
   "execution_count": 11,
   "metadata": {},
   "outputs": [
    {
     "data": {
      "text/plain": [
       "60"
      ]
     },
     "execution_count": 11,
     "metadata": {},
     "output_type": "execute_result"
    }
   ],
   "source": [
    "seleziona(5, candidati)"
   ]
  },
  {
   "cell_type": "code",
   "execution_count": 12,
   "metadata": {},
   "outputs": [
    {
     "data": {
      "text/plain": [
       "99"
      ]
     },
     "execution_count": 12,
     "metadata": {},
     "output_type": "execute_result"
    }
   ],
   "source": [
    "candidati[60]"
   ]
  },
  {
   "cell_type": "markdown",
   "metadata": {},
   "source": [
    "Grande, abbiamo vinto! Ok, ora vogliamo chiederci: quanto è buono 5, come valore di soglia? Facciamo questo esperimento: proviamo per 1000 candidati a cercare il meglio con 5, e vediamo quante volte abbiamo fortuna."
   ]
  },
  {
   "cell_type": "code",
   "execution_count": 13,
   "metadata": {},
   "outputs": [],
   "source": [
    "def esperimento():\n",
    "    candidati = list(range(100))\n",
    "    shuffle(candidati)\n",
    "    scelto = seleziona(5, candidati)\n",
    "    if scelto and candidati[scelto] == 99:\n",
    "        return True\n",
    "    else:\n",
    "        return False"
   ]
  },
  {
   "cell_type": "code",
   "execution_count": 14,
   "metadata": {},
   "outputs": [
    {
     "data": {
      "text/plain": [
       "False"
      ]
     },
     "execution_count": 14,
     "metadata": {},
     "output_type": "execute_result"
    }
   ],
   "source": [
    "esperimento()"
   ]
  },
  {
   "cell_type": "code",
   "execution_count": 15,
   "metadata": {},
   "outputs": [],
   "source": [
    "esperimenti = [esperimento() for _ in range(1000)]"
   ]
  },
  {
   "cell_type": "code",
   "execution_count": 16,
   "metadata": {},
   "outputs": [
    {
     "data": {
      "text/plain": [
       "146"
      ]
     },
     "execution_count": 16,
     "metadata": {},
     "output_type": "execute_result"
    }
   ],
   "source": [
    "sum(esperimenti)"
   ]
  },
  {
   "cell_type": "markdown",
   "metadata": {},
   "source": [
    "Ok, con la soglia di 5 abbiamo trovato il migliore 146 volte su 1000. Per provare con 6, generalizziamo la nostra funzione `esperimento`:"
   ]
  },
  {
   "cell_type": "code",
   "execution_count": 17,
   "metadata": {},
   "outputs": [],
   "source": [
    "def esperimento(soglia):\n",
    "    candidati = list(range(100))\n",
    "    shuffle(candidati)\n",
    "    scelto = seleziona(soglia, candidati)\n",
    "    if scelto and candidati[scelto] == 99:\n",
    "        return True\n",
    "    else:\n",
    "        return False"
   ]
  },
  {
   "cell_type": "code",
   "execution_count": 18,
   "metadata": {},
   "outputs": [],
   "source": [
    "esperimenti = [esperimento(6) for _ in range(1000)]"
   ]
  },
  {
   "cell_type": "code",
   "execution_count": 19,
   "metadata": {},
   "outputs": [
    {
     "data": {
      "text/plain": [
       "170"
      ]
     },
     "execution_count": 19,
     "metadata": {},
     "output_type": "execute_result"
    }
   ],
   "source": [
    "sum(esperimenti)"
   ]
  },
  {
   "cell_type": "markdown",
   "metadata": {},
   "source": [
    "Sembra meglio! Ok, generalizziamo anche gli esperimenti multipli:"
   ]
  },
  {
   "cell_type": "code",
   "execution_count": 20,
   "metadata": {},
   "outputs": [],
   "source": [
    "def esperimenti(soglia):\n",
    "    return sum(esperimento(soglia) for _ in range(1000))"
   ]
  },
  {
   "cell_type": "code",
   "execution_count": 21,
   "metadata": {},
   "outputs": [
    {
     "data": {
      "text/plain": [
       "208"
      ]
     },
     "execution_count": 21,
     "metadata": {},
     "output_type": "execute_result"
    }
   ],
   "source": [
    "esperimenti(7)"
   ]
  },
  {
   "cell_type": "code",
   "execution_count": 22,
   "metadata": {},
   "outputs": [
    {
     "name": "stderr",
     "output_type": "stream",
     "text": [
      "100%|██████████| 99/99 [00:32<00:00,  3.02it/s]\n"
     ]
    }
   ],
   "source": [
    "from tqdm import tqdm\n",
    "performances = [esperimenti(n) for n in tqdm(range(1, 100))]"
   ]
  },
  {
   "cell_type": "code",
   "execution_count": 23,
   "metadata": {},
   "outputs": [],
   "source": [
    "from matplotlib import pyplot as plt\n",
    "%matplotlib inline"
   ]
  },
  {
   "cell_type": "code",
   "execution_count": 24,
   "metadata": {},
   "outputs": [
    {
     "data": {
      "text/plain": [
       "[<matplotlib.lines.Line2D at 0x106530208>]"
      ]
     },
     "execution_count": 24,
     "metadata": {},
     "output_type": "execute_result"
    },
    {
     "data": {
      "image/png": "[encoded data removed]",
      "text/plain": [
       "<matplotlib.figure.Figure at 0x105016208>"
      ]
     },
     "metadata": {},
     "output_type": "display_data"
    }
   ],
   "source": [
    "plt.plot(performances)"
   ]
  },
  {
   "cell_type": "markdown",
   "metadata": {},
   "source": [
    "Sembra che ci sia un massimo! Per quale valore della soglia sarà? Per scoprirlo, ci serve \"lisciare\" un po' la curva, cosa che possiamo fare aumentando il numero di esperimenti. Rendiamolo parametrico"
   ]
  },
  {
   "cell_type": "code",
   "execution_count": 25,
   "metadata": {},
   "outputs": [],
   "source": [
    "def esperimenti(soglia, n=1000):\n",
    "    return sum(esperimento(soglia) for _ in range(n))"
   ]
  },
  {
   "cell_type": "code",
   "execution_count": 26,
   "metadata": {},
   "outputs": [
    {
     "name": "stderr",
     "output_type": "stream",
     "text": [
      "100%|██████████| 99/99 [2:06:45<00:00, 76.83s/it]\n"
     ]
    }
   ],
   "source": [
    "performances = [esperimenti(n, 100000) for n in tqdm(range(1, 100))]"
   ]
  },
  {
   "cell_type": "code",
   "execution_count": 27,
   "metadata": {},
   "outputs": [
    {
     "data": {
      "text/plain": [
       "[<matplotlib.lines.Line2D at 0x1065a8550>]"
      ]
     },
     "execution_count": 27,
     "metadata": {},
     "output_type": "execute_result"
    },
    {
     "data": {
      "image/png": "[encoded data removed]",
      "text/plain": [
       "<matplotlib.figure.Figure at 0x1065680f0>"
      ]
     },
     "metadata": {},
     "output_type": "display_data"
    }
   ],
   "source": [
    "plt.plot(performances)"
   ]
  },
  {
   "cell_type": "markdown",
   "metadata": {},
   "source": [
    "Questa sembra più \"smooth\"... cerchiamo il massimo?"
   ]
  },
  {
   "cell_type": "code",
   "execution_count": 28,
   "metadata": {},
   "outputs": [
    {
     "data": {
      "text/plain": [
       "37254"
      ]
     },
     "execution_count": 28,
     "metadata": {},
     "output_type": "execute_result"
    }
   ],
   "source": [
    "max(performances)"
   ]
  },
  {
   "cell_type": "markdown",
   "metadata": {},
   "source": [
    "Cioè il meglio che riusciamo a fare è scegliere *l* miglior* il 37% delle volte (ricordate che la popolazione degli esperimenti ha cardinalità 10000)"
   ]
  },
  {
   "cell_type": "markdown",
   "metadata": {},
   "source": [
    "E vediamo un po': qual è il valore di soglia ottimo?"
   ]
  },
  {
   "cell_type": "code",
   "execution_count": 29,
   "metadata": {},
   "outputs": [
    {
     "data": {
      "text/plain": [
       "32"
      ]
     },
     "execution_count": 29,
     "metadata": {},
     "output_type": "execute_result"
    }
   ],
   "source": [
    "performances.index(max(performances))"
   ]
  },
  {
   "cell_type": "markdown",
   "metadata": {},
   "source": [
    "Quindi il meglio lo si ottiene per un valore di soglia di 32, in corrispondenza del quale si sceglie il migliore il 37% delle volte."
   ]
  },
  {
   "cell_type": "markdown",
   "metadata": {},
   "source": [
    "### Esercizi\n",
    "\n",
    "1. Cosa cambia se invece di infrattarsi col migliore si considera ammissibile scegeliere anche il secondo?\n",
    "2. Cosa cambia se si ammette di poter scegliere anche il penultimo intervistato?"
   ]
  },
  {
   "cell_type": "code",
   "execution_count": null,
   "metadata": {},
   "outputs": [],
   "source": []
  }
 ],
 "metadata": {
  "kernelspec": {
   "display_name": "Python 3",
   "language": "python",
   "name": "python3"
  },
  "language_info": {
   "codemirror_mode": {
    "name": "ipython",
    "version": 3
   },
   "file_extension": ".py",
   "mimetype": "text/x-python",
   "name": "python",
   "nbconvert_exporter": "python",
   "pygments_lexer": "ipython3",
   "version": "3.5.1"
  }
 },
 "nbformat": 4,
 "nbformat_minor": 2
}
